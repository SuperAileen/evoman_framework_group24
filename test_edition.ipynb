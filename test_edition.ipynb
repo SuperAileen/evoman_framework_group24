{
 "cells": [
  {
   "cell_type": "code",
   "execution_count": 1,
   "metadata": {},
   "outputs": [
    {
     "name": "stdout",
     "output_type": "stream",
     "text": [
      "pygame 2.6.0 (SDL 2.28.4, Python 3.9.18)\n",
      "Hello from the pygame community. https://www.pygame.org/contribute.html\n"
     ]
    }
   ],
   "source": [
    "from evoman.environment import Environment\n",
    "from demo_controller import player_controller\n",
    "\n",
    "import numpy as np\n",
    "import glob\n",
    "import matplotlib.pyplot as plt\n",
    "from scipy import stats\n",
    "import os\n",
    "os.environ[\"SDL_VIDEODRIVER\"] = \"dummy\""
   ]
  },
  {
   "cell_type": "code",
   "execution_count": 13,
   "metadata": {},
   "outputs": [],
   "source": [
    "from IPython.core.interactiveshell import InteractiveShell\n",
    "InteractiveShell.ast_node_interactivity = \"all\" "
   ]
  },
  {
   "cell_type": "markdown",
   "metadata": {},
   "source": [
    "## box plot"
   ]
  },
  {
   "cell_type": "code",
   "execution_count": 27,
   "metadata": {},
   "outputs": [
    {
     "data": {
      "text/plain": [
       "\"\\ndef find_best_solution(enemy_group, method):\\n    print(f'experiments_train_generalist_{enemy_group}/optimization_generalist_generalist_{method}_*'+'/best.txt')\\n    file_name = f'experiments_train_generalist_{enemy_group}/optimization_generalist_generalist_{method}_*'+'/best.txt'\\n    best_files = glob.glob(file_name)\\n    best_fitness = -np.inf\\n    best_solution = None\\n\\n    for file in best_files:\\n        sol = np.loadtxt(file)\\n        fitness, _, _, _ = env.play(sol)\\n        \\n        if fitness > best_fitness:\\n            best_solution = sol\\n\\n    return best_solution\\n\\n\""
      ]
     },
     "execution_count": 27,
     "metadata": {},
     "output_type": "execute_result"
    }
   ],
   "source": [
    "'''\n",
    "def find_best_solution(enemy_group, method):\n",
    "    print(f'experiments_train_generalist_{enemy_group}/optimization_generalist_generalist_{method}_*'+'/best.txt')\n",
    "    file_name = f'experiments_train_generalist_{enemy_group}/optimization_generalist_generalist_{method}_*'+'/best.txt'\n",
    "    best_files = glob.glob(file_name)\n",
    "    best_fitness = -np.inf\n",
    "    best_solution = None\n",
    "\n",
    "    for file in best_files:\n",
    "        sol = np.loadtxt(file)\n",
    "        fitness, _, _, _ = env.play(sol)\n",
    "        \n",
    "        if fitness > best_fitness:\n",
    "            best_solution = sol\n",
    "\n",
    "    return best_solution\n",
    "\n",
    "'''"
   ]
  },
  {
   "cell_type": "code",
   "execution_count": 11,
   "metadata": {},
   "outputs": [],
   "source": [
    "def extract_all_sols(enemy_group, method):\n",
    "   \n",
    "    #\n",
    "    main_dir = f'experiments_train_generalist_{enemy_group}'\n",
    "    sols_list = []\n",
    "\n",
    "    #\n",
    "    for subdir in os.listdir(main_dir):\n",
    "        # \n",
    "        if subdir.startswith(f'optimization_generalist_generalist_{method}'):\n",
    "            best_file_path = os.path.join(main_dir, subdir, 'best.txt')\n",
    "            \n",
    "            # check if the file exist\n",
    "            if os.path.exists(best_file_path):\n",
    "                try:\n",
    "                \n",
    "                    sol = np.loadtxt(best_file_path)\n",
    "                    sols_list.append(sol)\n",
    "                except Exception as e:\n",
    "                    print(f\"mistake\")\n",
    "            else:\n",
    "                print(f\"not exist\")\n",
    "\n",
    "   \n",
    "    return sols_list"
   ]
  },
  {
   "cell_type": "code",
   "execution_count": null,
   "metadata": {},
   "outputs": [],
   "source": []
  },
  {
   "cell_type": "code",
   "execution_count": 17,
   "metadata": {},
   "outputs": [],
   "source": [
    "n_hidden_neurons = 10\n",
    "\n",
    "env = Environment(experiment_name='best_experiment_test',\n",
    "                multiplemode=\"yes\",\n",
    "                playermode=\"ai\",\n",
    "\t\t\t\tplayer_controller=player_controller(n_hidden_neurons),\n",
    "\t\t\t\tspeed=\"fastest\",\n",
    "\t\t\t\tenemymode=\"static\",\n",
    "                logs=\"off\",\n",
    "                randomini=\"yes\",\n",
    "\t\t\t\tlevel=2,\n",
    "\t\t\t\tvisuals=True)\n",
    "\n",
    "results = {}\n",
    "method_list = ['GA1', 'GA2']\n",
    "enemy_groups = ['1_3_4_6', '2_5_7_8']\n",
    "\n",
    "\n",
    "for enemy_group in enemy_groups:\n",
    "    for method in method_list:\n",
    "        \n",
    "        env.update_parameter('enemies', [1,2,3,4,5,6,7,8])\n",
    "        #sol = find_best_solution(enemy_group, method)\n",
    "        sol_list = extract_all_sols(enemy_group, method)\n",
    "        individual_gain_list = []\n",
    "        for sol in sol_list:\n",
    "            \n",
    "            _, player_life, enemy_life, _=env.play(sol)\n",
    "            indivdual_gain=player_life-enemy_life\n",
    "            individual_gain_list.append(indivdual_gain)\n",
    "        \n",
    "        results[(enemy_group, method)] = individual_gain_list"
   ]
  },
  {
   "cell_type": "code",
   "execution_count": 18,
   "metadata": {},
   "outputs": [
    {
     "data": {
      "text/plain": [
       "{('1_3_4_6', 'GA1'): [-36.569683630685944,\n",
       "  -12.595287017902194,\n",
       "  -41.62172645978974,\n",
       "  -46.02795775857756,\n",
       "  -16.98585128400994,\n",
       "  -35.361564389082645,\n",
       "  -22.602447323271765,\n",
       "  -34.18495902779323,\n",
       "  -26.86457279389645,\n",
       "  -18.653943200150305],\n",
       " ('1_3_4_6', 'GA2'): [-22.144053569882843,\n",
       "  -12.77329705980977,\n",
       "  -25.291978814856368,\n",
       "  -10.827231975385985,\n",
       "  -19.393182722377716,\n",
       "  -31.229353807824562,\n",
       "  -21.563019495432112,\n",
       "  -20.6224325300073,\n",
       "  -4.1622382367333906,\n",
       "  -6.526065958915872],\n",
       " ('2_5_7_8', 'GA1'): [-12.581214575788795,\n",
       "  -11.412137498380961,\n",
       "  -24.00319482239632,\n",
       "  -15.566430405566365,\n",
       "  -29.278007213287008,\n",
       "  1.0367616957333539,\n",
       "  -24.31402015328928,\n",
       "  1.3852297296442906,\n",
       "  -6.341453803582304,\n",
       "  -38.99925260664297],\n",
       " ('2_5_7_8', 'GA2'): [-9.792737688423436,\n",
       "  -0.848329324691381,\n",
       "  -1.4044435371588193,\n",
       "  -16.405265748748675,\n",
       "  -4.22207549501579,\n",
       "  -19.225782447146536,\n",
       "  -21.117427109094553,\n",
       "  -15.06480685208889,\n",
       "  -21.842031063670746,\n",
       "  -9.10792988285122]}"
      ]
     },
     "execution_count": 18,
     "metadata": {},
     "output_type": "execute_result"
    }
   ],
   "source": [
    "results "
   ]
  },
  {
   "cell_type": "code",
   "execution_count": 19,
   "metadata": {},
   "outputs": [
    {
     "data": {
      "text/plain": [
       "{'whiskers': [<matplotlib.lines.Line2D at 0x218d01d8d30>,\n",
       "  <matplotlib.lines.Line2D at 0x218d01d8ac0>,\n",
       "  <matplotlib.lines.Line2D at 0x218cf834e50>,\n",
       "  <matplotlib.lines.Line2D at 0x218cf834130>,\n",
       "  <matplotlib.lines.Line2D at 0x218cf82b940>,\n",
       "  <matplotlib.lines.Line2D at 0x218cf82b8b0>,\n",
       "  <matplotlib.lines.Line2D at 0x218d097d760>,\n",
       "  <matplotlib.lines.Line2D at 0x218d097df70>],\n",
       " 'caps': [<matplotlib.lines.Line2D at 0x218d01d81f0>,\n",
       "  <matplotlib.lines.Line2D at 0x218d0936580>,\n",
       "  <matplotlib.lines.Line2D at 0x218cf834fa0>,\n",
       "  <matplotlib.lines.Line2D at 0x218cf82beb0>,\n",
       "  <matplotlib.lines.Line2D at 0x218d0651be0>,\n",
       "  <matplotlib.lines.Line2D at 0x218d0651490>,\n",
       "  <matplotlib.lines.Line2D at 0x218d097d160>,\n",
       "  <matplotlib.lines.Line2D at 0x218d097d370>],\n",
       " 'boxes': [<matplotlib.lines.Line2D at 0x218d01d88e0>,\n",
       "  <matplotlib.lines.Line2D at 0x218cf834df0>,\n",
       "  <matplotlib.lines.Line2D at 0x218cf82b1f0>,\n",
       "  <matplotlib.lines.Line2D at 0x218d0651790>],\n",
       " 'medians': [<matplotlib.lines.Line2D at 0x218d0936430>,\n",
       "  <matplotlib.lines.Line2D at 0x218cf82bfd0>,\n",
       "  <matplotlib.lines.Line2D at 0x218d0651310>,\n",
       "  <matplotlib.lines.Line2D at 0x218d097d910>],\n",
       " 'fliers': [<matplotlib.lines.Line2D at 0x218d09369d0>,\n",
       "  <matplotlib.lines.Line2D at 0x218cf82b670>,\n",
       "  <matplotlib.lines.Line2D at 0x218d0651a60>,\n",
       "  <matplotlib.lines.Line2D at 0x218d097db20>],\n",
       " 'means': []}"
      ]
     },
     "execution_count": 19,
     "metadata": {},
     "output_type": "execute_result"
    },
    {
     "data": {
      "text/plain": [
       "Text(0.5, 1.0, 'Boxplot of Gain Values')"
      ]
     },
     "execution_count": 19,
     "metadata": {},
     "output_type": "execute_result"
    },
    {
     "data": {
      "text/plain": [
       "Text(0, 0.5, 'Individual Gain')"
      ]
     },
     "execution_count": 19,
     "metadata": {},
     "output_type": "execute_result"
    },
    {
     "data": {
      "image/png": "[encoded data removed]",
      "text/plain": [
       "<Figure size 1000x800 with 1 Axes>"
      ]
     },
     "metadata": {},
     "output_type": "display_data"
    }
   ],
   "source": [
    "fig, ax = plt.subplots(figsize=(10, 8))\n",
    "data = [results[key] for key in sorted(results.keys())]\n",
    "labels = [f\"{e}\\n{m}\" for m, e in sorted(results.keys())]\n",
    "\n",
    "ax.boxplot(data, labels=labels)\n",
    "ax.set_title('Boxplot of Gain Values', fontsize=28)\n",
    "ax.set_ylabel('Individual Gain', fontsize=26)\n",
    "ax.tick_params(axis='x', labelsize=20)\n",
    "ax.tick_params(axis='y', labelsize=18)\n",
    "# plt.xticks(rotation=45)\n",
    "plt.savefig(\"box_plot_2.png\", dpi=150)"
   ]
  },
  {
   "cell_type": "code",
   "execution_count": 20,
   "metadata": {},
   "outputs": [
    {
     "name": "stdout",
     "output_type": "stream",
     "text": [
      "Enemy 1_3_4_6 - U statistic: 22.000, p-value: 3.764e-02\n",
      "For Enemy 1_3_4_6, the difference between GA and ES is statistically significant.\n",
      "Enemy 2_5_7_8 - U statistic: 41.000, p-value: 5.205e-01\n",
      "For Enemy 2_5_7_8, no significant difference was found.\n"
     ]
    }
   ],
   "source": [
    "# Mann-Whitney U test\n",
    "alpha = 0.05\n",
    "mannwhitney_results = {}\n",
    "\n",
    "for enemy_group in enemy_groups:\n",
    "    ga_results = results[(enemy_group, 'GA1')]\n",
    "    es_results = results[(enemy_group, 'GA2')]\n",
    "\n",
    "    u_stat, p_value = stats.mannwhitneyu(ga_results, es_results, alternative='two-sided')\n",
    "    mannwhitney_results[enemy_group] = {'u_stat': u_stat, 'p_value': p_value}\n",
    "\n",
    "\n",
    "for enemy_group, res in mannwhitney_results.items():\n",
    "    print(f\"Enemy {enemy_group} - U statistic: {res['u_stat']:.3f}, p-value: {res['p_value']:.3e}\")\n",
    "    if res['p_value'] < alpha:\n",
    "        print(f\"For Enemy {enemy_group}, the difference between GA and ES is statistically significant.\")\n",
    "    else:\n",
    "        print(f\"For Enemy {enemy_group}, no significant difference was found.\")"
   ]
  },
  {
   "cell_type": "code",
   "execution_count": 21,
   "metadata": {},
   "outputs": [
    {
     "name": "stdout",
     "output_type": "stream",
     "text": [
      "Enemy 1_3_4_6 - t-statistic: -2.611, p-value: 1.837e-02\n",
      "For Enemy 1_3_4_6, the difference between GA and ES is statistically significant.\n",
      "Enemy 2_5_7_8 - t-statistic: -0.844, p-value: 4.121e-01\n",
      "For Enemy 2_5_7_8, no significant difference was found.\n"
     ]
    }
   ],
   "source": [
    "# t-test\n",
    "ttest_results = {}\n",
    "\n",
    "for enemy_group in enemy_groups:\n",
    "    ga_results = results[(enemy_group, 'GA1')]\n",
    "    es_results = results[(enemy_group, 'GA2')]\n",
    "\n",
    "    t_stat, p_value = stats.ttest_ind(ga_results, es_results, equal_var=False)\n",
    "    ttest_results[enemy_group] = {'t_stat': t_stat, 'p_value': p_value}\n",
    "\n",
    "for enemy_group, res in ttest_results.items():\n",
    "    print(f\"Enemy {enemy_group} - t-statistic: {res['t_stat']:.3f}, p-value: {res['p_value']:.3e}\")\n",
    "    if res['p_value'] < alpha:\n",
    "        print(f\"For Enemy {enemy_group}, the difference between GA and ES is statistically significant.\")\n",
    "    else:\n",
    "        print(f\"For Enemy {enemy_group}, no significant difference was found.\")"
   ]
  },
  {
   "cell_type": "code",
   "execution_count": 22,
   "metadata": {},
   "outputs": [
    {
     "name": "stdout",
     "output_type": "stream",
     "text": [
      "Enemy 1_3_4_6 - KS statistic: 0.500, p-value: 1.678e-01\n",
      "Enemy 2_5_7_8 - KS statistic: 0.400, p-value: 4.175e-01\n"
     ]
    }
   ],
   "source": [
    "# Kolmogorov-Smirnov test\n",
    "ks_results = {}\n",
    "\n",
    "for enemy_group in enemy_groups:\n",
    "    ga_results = results[(enemy_group, 'GA1')]\n",
    "    es_results = results[(enemy_group, 'GA2')]\n",
    "\n",
    "    ks_stat, p_value = stats.ks_2samp(ga_results, es_results)\n",
    "    ks_results[enemy_group] = {'ks_stat': ks_stat, 'p_value': p_value}\n",
    "\n",
    "for enemy_group, res in ks_results.items():\n",
    "    print(f\"Enemy {enemy_group} - KS statistic: {res['ks_stat']:.3f}, p-value: {res['p_value']:.3e}\")"
   ]
  },
  {
   "cell_type": "code",
   "execution_count": 23,
   "metadata": {},
   "outputs": [
    {
     "name": "stdout",
     "output_type": "stream",
     "text": [
      "Enemy 1_3_4_6 - H statistic: 4.480, p-value: 3.429e-02\n",
      "For Enemy 1_3_4_6, the difference between GA and ES is statistically significant.\n",
      "Enemy 2_5_7_8 - H statistic: 0.463, p-value: 4.963e-01\n",
      "For Enemy 2_5_7_8, no significant difference was found.\n"
     ]
    }
   ],
   "source": [
    "# Kruskal-Wallis H test\n",
    "kruskal_results = {}\n",
    "\n",
    "for enemy_group in enemy_groups:\n",
    "    ga_results = results[(enemy_group, 'GA1')]\n",
    "    es_results = results[(enemy_group, 'GA2')]\n",
    "\n",
    "    h_stat, p_value = stats.kruskal(ga_results, es_results)  \n",
    "    kruskal_results[enemy_group] = {'h_stat': h_stat, 'p_value': p_value}\n",
    "\n",
    "for enemy_group, res in kruskal_results.items():\n",
    "    print(f\"Enemy {enemy_group} - H statistic: {res['h_stat']:.3f}, p-value: {res['p_value']:.3e}\")\n",
    "\n",
    "    if res['p_value'] < alpha:\n",
    "        print(f\"For Enemy {enemy_group}, the difference between GA and ES is statistically significant.\")\n",
    "    else:\n",
    "        print(f\"For Enemy {enemy_group}, no significant difference was found.\")"
   ]
  },
  {
   "cell_type": "markdown",
   "metadata": {},
   "source": [
    "## Very Best"
   ]
  },
  {
   "cell_type": "code",
   "execution_count": 24,
   "metadata": {},
   "outputs": [
    {
     "name": "stdout",
     "output_type": "stream",
     "text": [
      "experiments_train_generalist_1_3_4_6/optimization_generalist_generalist_GA1_*/best.txt\n",
      "experiments_train_generalist_1_3_4_6/optimization_generalist_generalist_GA2_*/best.txt\n",
      "experiments_train_generalist_2_5_7_8/optimization_generalist_generalist_GA1_*/best.txt\n",
      "experiments_train_generalist_2_5_7_8/optimization_generalist_generalist_GA2_*/best.txt\n"
     ]
    }
   ],
   "source": [
    "n_hidden_neurons = 10\n",
    "\n",
    "env = Environment(experiment_name='best_experiment_test',\n",
    "                multiplemode=\"yes\",\n",
    "                playermode=\"ai\",\n",
    "\t\t\t\tplayer_controller=player_controller(n_hidden_neurons),\n",
    "\t\t\t\tspeed=\"fastest\",\n",
    "\t\t\t\tenemymode=\"static\",\n",
    "                logs=\"off\",\n",
    "                randomini=\"yes\",\n",
    "\t\t\t\tlevel=2,\n",
    "\t\t\t\tvisuals=True)\n",
    "\n",
    "results = {}\n",
    "method_list = ['GA1', 'GA2']\n",
    "enemy_groups = ['1_3_4_6', '2_5_7_8']\n",
    "\n",
    "best_gain = -np.inf\n",
    "best_solution = None\n",
    "best_file_name = None\n",
    "\n",
    "for enemy_group in enemy_groups:\n",
    "    for method in method_list:\n",
    "        print(f'experiments_train_generalist_{enemy_group}/optimization_generalist_generalist_{method}_*'+'/best.txt')\n",
    "        file_name = f'experiments_train_generalist_{enemy_group}/optimization_generalist_generalist_{method}_*'+'/best.txt'\n",
    "        best_files = glob.glob(file_name)   \n",
    "        \n",
    "        for file in best_files:\n",
    "            sol = np.loadtxt(file)\n",
    "            env.update_parameter('enemies', [1,2,3,4,5,6,7,8])\n",
    "            _, player_life, enemy_life, _ = env.play(sol)\n",
    "            avg_gain = player_life - enemy_life\n",
    "        \n",
    "            if avg_gain > best_gain:\n",
    "                best_gain = avg_gain\n",
    "                best_solution = sol\n",
    "                best_file_name = file"
   ]
  },
  {
   "cell_type": "code",
   "execution_count": 26,
   "metadata": {},
   "outputs": [
    {
     "name": "stdout",
     "output_type": "stream",
     "text": [
      "experiments_train_generalist_2_5_7_8\\optimization_generalist_generalist_GA2_20241018-010746\\best.txt\n",
      "[ 0.60073388 -0.41015465 -0.34048379  0.8499766   0.54825643 -0.51304915\n",
      "  0.80801077  0.58199113 -0.03025086 -0.61121154 -0.16059245  0.05584901\n",
      " -0.63380917 -0.29272197 -0.64622068 -0.50323254  1.06269787 -0.76968373\n",
      "  0.20923829 -0.03071445  0.61402263 -0.23858193 -0.74275213 -0.94824459\n",
      " -0.63787967  0.70778841  0.70914373 -0.67788664 -1.1222797  -0.75428394\n",
      " -0.39563242  0.88892244 -1.03093239  0.24970824  0.3212386   0.68802388\n",
      "  0.66450102  0.51399998 -0.78695888  0.96842698 -0.32123133  0.02481327\n",
      "  0.77406604 -0.20225889 -0.2988722   0.07065422  0.88267641 -0.80398555\n",
      "  0.54539511 -0.40382234 -0.62695361  0.44016969 -0.31627284  0.68957389\n",
      "  0.90342199 -0.10138107  0.49415511 -0.00235002 -0.62585548 -0.95380905\n",
      "  0.11325297 -0.30240758 -0.75787337  0.62558542  0.36692001 -0.96469453\n",
      "  0.30088635 -0.49866204 -0.9044345   0.43762006 -1.01884475 -0.60347194\n",
      "  0.37978055 -0.74931345  0.63707158  0.18703084  0.31568474  0.5306692\n",
      "  0.08225189  0.10641198 -0.30769522 -0.21871768  0.74618619  0.79311128\n",
      "  0.95776008  0.79127156 -0.95265319 -0.3493128   0.59272082  0.58200628\n",
      "  0.37254709  0.7176796  -0.75376522 -0.51309416 -0.32986851  0.74585705\n",
      "  0.05911257  0.50871364 -0.70446242 -0.97274792  0.72489317  1.06430665\n",
      " -0.79882468 -0.01853099  0.67149248  0.30521589  0.30616165 -0.30295652\n",
      " -0.87748696  0.14787227 -0.04353741 -0.48147994  0.39403219  0.37580055\n",
      " -0.75624338  0.83261208  0.2197831   0.2155074  -0.05230626 -0.29275837\n",
      "  0.90146024 -0.71949173 -0.12501741  1.02071888 -0.31549674 -0.30984134\n",
      " -0.58668369 -0.03537611 -0.99500818 -0.86633494  0.6956776  -0.85163573\n",
      " -0.62305363  0.77513376 -0.31816803  0.57764904 -0.74945783 -0.7211579\n",
      "  0.99017728  0.10602298 -0.12004821 -0.11536925 -1.07325873  0.69569125\n",
      " -0.46391961  0.16330287  0.28248423  0.72015984 -0.3981148  -0.09204271\n",
      "  0.46552794 -0.58326738  0.33843991 -0.3808781   0.16611992 -0.37452121\n",
      " -0.39983445  0.24410749  0.05694202  0.11995206  0.61582147 -0.45372977\n",
      "  0.57340958 -0.25345557 -0.59947046  0.1083275  -0.70061099  0.45827556\n",
      " -0.0326351  -0.59373808  0.12379618  0.80412494  0.37792487  0.36025791\n",
      "  0.2735251   0.57973643 -0.86836666 -0.22920925 -0.94658782 -0.57837008\n",
      " -0.87926185  0.08267756 -0.03924638  0.45196798  0.65025112 -0.53431341\n",
      "  1.03499911 -0.39477842  0.96671687  0.65857009 -0.09370505 -0.98854679\n",
      " -0.28350984  0.67427718  0.39504584 -0.02712936  0.86172913 -0.21432953\n",
      " -0.17051457  0.48606278  0.70152278  0.6499422  -1.06276602  0.02174479\n",
      "  0.5188008   0.35870011 -0.48457697 -0.67821416  0.74725541 -0.23118879\n",
      "  0.8212189   0.98937767 -0.71907473  0.79144119  0.80078206 -0.80751666\n",
      " -0.92829112  0.11944537  0.58748023  0.84401873 -0.62801528  0.88703182\n",
      "  0.7878318  -0.38715983  0.85294676  0.80996771 -0.56412043  0.23267679\n",
      " -0.00703142 -0.37824484  0.88394126  0.73712316  0.7644559   0.23584888\n",
      "  0.67631331 -0.77746143  0.00968924  0.05978805 -0.21967123  0.9594809\n",
      " -0.80217302  0.69964355  0.32873291 -0.95559649 -0.48877022 -0.96685169\n",
      " -0.7477657   0.30717176 -0.17590422  1.14456258  0.67763282 -0.58924455\n",
      "  0.77441627  0.53129013  0.2362895   0.84299239 -0.63812651  0.28724188\n",
      " -0.86219742 -0.19997258  0.90554373  0.03176046  0.59180065  0.81452329\n",
      "  0.27757911]\n"
     ]
    }
   ],
   "source": [
    "print(best_file_name)\n",
    "print(best_solution)"
   ]
  },
  {
   "cell_type": "code",
   "execution_count": 10,
   "metadata": {},
   "outputs": [
    {
     "name": "stdout",
     "output_type": "stream",
     "text": [
      "experiments_train_generalist_1_3_4_6/optimization_generalist_generalist_GA1_20241017-182533/best.txt\n"
     ]
    }
   ],
   "source": [
    "print(best_file_name)"
   ]
  },
  {
   "cell_type": "code",
   "execution_count": 28,
   "metadata": {},
   "outputs": [
    {
     "name": "stdout",
     "output_type": "stream",
     "text": [
      "[-90, 56, -60, -80, 55, -100, 37, 52]\n"
     ]
    }
   ],
   "source": [
    "n_hidden_neurons = 10\n",
    "\n",
    "env = Environment(experiment_name='best_experiment_test',\n",
    "                playermode=\"ai\",\n",
    "\t\t\t\tplayer_controller=player_controller(n_hidden_neurons),\n",
    "\t\t\t\tspeed=\"fastest\",\n",
    "\t\t\t\tenemymode=\"static\",\n",
    "                logs=\"off\",\n",
    "                randomini=\"yes\",\n",
    "\t\t\t\tlevel=2,\n",
    "\t\t\t\tvisuals=True)\n",
    "\n",
    "\n",
    "individual_gain_list = []\n",
    "\n",
    "\n",
    "for i in range(1,9):\n",
    "    \n",
    "    env.update_parameter('enemies', [i])\n",
    "    _, player_life, enemy_life, _ = env.play(best_solution)\n",
    "    individual_gain = int(player_life - enemy_life)\n",
    "    individual_gain_list.append(individual_gain)\n",
    "\n",
    "print(individual_gain_list)"
   ]
  }
 ],
 "metadata": {
  "kernelspec": {
   "display_name": "torchcpu",
   "language": "python",
   "name": "python3"
  },
  "language_info": {
   "codemirror_mode": {
    "name": "ipython",
    "version": 3
   },
   "file_extension": ".py",
   "mimetype": "text/x-python",
   "name": "python",
   "nbconvert_exporter": "python",
   "pygments_lexer": "ipython3",
   "version": "3.9.18"
  }
 },
 "nbformat": 4,
 "nbformat_minor": 2
}
